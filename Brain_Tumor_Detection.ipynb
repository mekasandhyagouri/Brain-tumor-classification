{
  "nbformat": 4,
  "nbformat_minor": 0,
  "metadata": {
    "colab": {
      "provenance": [],
      "authorship_tag": "ABX9TyPPBqJG2v82yk0GRiFQBmoY",
      "include_colab_link": true
    },
    "kernelspec": {
      "name": "python3",
      "display_name": "Python 3"
    },
    "language_info": {
      "name": "python"
    },
    "gpuClass": "standard",
    "accelerator": "GPU"
  },
  "cells": [
    {
      "cell_type": "markdown",
      "metadata": {
        "id": "view-in-github",
        "colab_type": "text"
      },
      "source": [
        "<a href=\"https://colab.research.google.com/github/mekasandhyagouri/Brain-tumor-classification/blob/main/Brain_Tumor_Detection.ipynb\" target=\"_parent\"><img src=\"https://colab.research.google.com/assets/colab-badge.svg\" alt=\"Open In Colab\"/></a>"
      ]
    },
    {
      "cell_type": "code",
      "source": [
        "import warnings\n",
        "warnings.filterwarnings('ignore')"
      ],
      "metadata": {
        "id": "c3BJvP2jFQgd"
      },
      "execution_count": null,
      "outputs": []
    },
    {
      "cell_type": "code",
      "execution_count": null,
      "metadata": {
        "id": "yHRzDDrwEzDu"
      },
      "outputs": [],
      "source": [
        "#get the data from\n",
        "!wget https://www.dropbox.com/s/dvhuxsim06lt6qe/archive.zip?dl=0"
      ]
    },
    {
      "cell_type": "code",
      "source": [
        "!unzip /content/archive.zip?dl=0"
      ],
      "metadata": {
        "id": "VJukCKO0FBNe"
      },
      "execution_count": null,
      "outputs": []
    },
    {
      "cell_type": "code",
      "source": [
        "import numpy as np\n",
        "import matplotlib.pyplot as plt\n",
        "import os\n",
        "import math\n",
        "import shutil\n",
        "import glob\n"
      ],
      "metadata": {
        "id": "3wQVNUOoFIXT"
      },
      "execution_count": null,
      "outputs": []
    },
    {
      "cell_type": "code",
      "source": [
        "#count the number of images in the respectve classes 0-Brain Tumour and 1-Healthy\n",
        "ROOT_DIR = \"/content/Training\"\n",
        "number_of_images = {}\n",
        "\n",
        "for dir in os.listdir(ROOT_DIR):\n",
        "  number_of_images[dir] = len(os.listdir(os.path.join(ROOT_DIR,dir)) )\n",
        "number_of_images.items()"
      ],
      "metadata": {
        "id": "1Q_98s7PGGDp",
        "colab": {
          "base_uri": "https://localhost:8080/"
        },
        "outputId": "7f8df35f-ad10-42ad-c1f0-85ab276c4103"
      },
      "execution_count": null,
      "outputs": [
        {
          "output_type": "execute_result",
          "data": {
            "text/plain": [
              "dict_items([('pituitary_tumor', 827), ('meningioma_tumor', 822), ('glioma_tumor', 826), ('no_tumor', 395)])"
            ]
          },
          "metadata": {},
          "execution_count": 5
        }
      ]
    },
    {
      "cell_type": "markdown",
      "source": [
        "#We will split the data such that\n",
        "\n",
        "\n",
        "*   70% for Train Data\n",
        "*   15% for Validation\n",
        "*   15% for testing\n",
        "\n",
        "\n",
        "\n",
        "\n",
        "\n",
        "\n"
      ],
      "metadata": {
        "id": "S0EuSY_LI7ik"
      }
    },
    {
      "cell_type": "code",
      "source": [
        "def dataFolder(p,split):\n",
        "  # we will create a train folder\n",
        "\n",
        "  if not os.path.exists(\"./\" + p):\n",
        "    os.mkdir(\"./\"+p)\n",
        "\n",
        "    for dir in os.listdir(ROOT_DIR):\n",
        "      os.makedirs(\"./\"+p+\"/\" + dir)\n",
        "\n",
        "      for img in np.random.choice(a = os.listdir(os.path.join(ROOT_DIR, dir)) ,\n",
        "                                  size = (math.floor(split * number_of_images[dir] )-5), replace = False):\n",
        "        o = os.path.join(ROOT_DIR,dir,img) #path\n",
        "        D = os.path.join(\"./\"+p,dir)\n",
        "        shutil.copy(o,D)\n",
        "        os.remove(o)\n",
        "  else:\n",
        "    print(\"The folder Exists\")\n"
      ],
      "metadata": {
        "id": "bcYjgnC-IgmF"
      },
      "execution_count": null,
      "outputs": []
    },
    {
      "cell_type": "code",
      "source": [
        "if not os.path.exists(\"./train\"):\n",
        "    os.mkdir(\"./train\")\n",
        "\n",
        "    for dir in os.listdir(ROOT_DIR):\n",
        "      os.makedirs(\"./train/\"+ dir)\n",
        "\n",
        "      for img in np.random.choice(a = os.listdir(os.path.join(ROOT_DIR, dir)) ,\n",
        "                                  size = (math.floor(60/100 * number_of_images[dir] )-50), replace = False):\n",
        "        o = os.path.join(ROOT_DIR,dir,img) #path\n",
        "        D = os.path.join(\"./train\",dir)\n",
        "        shutil.copy(o,D)\n",
        "        os.remove(o)\n",
        "else:\n",
        "    print(\"The folder Exists\")"
      ],
      "metadata": {
        "id": "mMYVmttNcDg_"
      },
      "execution_count": null,
      "outputs": []
    },
    {
      "cell_type": "code",
      "source": [
        "dataFolder(\"train\",0.6)"
      ],
      "metadata": {
        "id": "wMIIB1yhMF1T",
        "colab": {
          "base_uri": "https://localhost:8080/"
        },
        "outputId": "86257d80-3c2f-4d5d-d553-7e1890a57647"
      },
      "execution_count": null,
      "outputs": [
        {
          "output_type": "stream",
          "name": "stdout",
          "text": [
            "The folder Exists\n"
          ]
        }
      ]
    },
    {
      "cell_type": "code",
      "source": [
        "dataFolder(\"val\",0.15)"
      ],
      "metadata": {
        "id": "AzwWeX2oMPCG"
      },
      "execution_count": null,
      "outputs": []
    },
    {
      "cell_type": "code",
      "source": [
        "dataFolder(\"test\",0.15)"
      ],
      "metadata": {
        "id": "gzJ8uhUYM9Xj"
      },
      "execution_count": null,
      "outputs": []
    },
    {
      "cell_type": "markdown",
      "source": [
        "Model Build"
      ],
      "metadata": {
        "id": "Ut-TJZntNmKa"
      }
    },
    {
      "cell_type": "code",
      "source": [
        "from keras.layers import Conv2D, MaxPool2D, Dropout, Flatten, Dense, BatchNormalization , GlobalAvgPool2D\n",
        "from keras.models import Sequential\n",
        "from keras.preprocessing.image import ImageDataGenerator\n",
        "# from tensorflow.keras.utils import load_img , img_to_array\n",
        "import keras"
      ],
      "metadata": {
        "id": "hzPqUuYcNk4g"
      },
      "execution_count": null,
      "outputs": []
    },
    {
      "cell_type": "code",
      "source": [
        "# CNN Model\n",
        "\n",
        "model = Sequential()\n",
        "\n",
        "model.add(Conv2D(filters = 16, kernel_size = (3,3), activation ='relu', input_shape = (224,224,3)))\n",
        "\n",
        "model.add(Conv2D(filters = 36, kernel_size = (3,3), activation ='relu'))\n",
        "model.add(MaxPool2D(pool_size=(2,2)))\n",
        "\n",
        "model.add(Conv2D(filters =64, kernel_size=(3,3), activation ='relu'))\n",
        "model.add(MaxPool2D(pool_size =(2,2)))\n",
        "\n",
        "model.add(Conv2D(filters =128, kernel_size=(3,3), activation ='relu'))\n",
        "model.add(MaxPool2D(pool_size =(2,2)))\n",
        "\n",
        "model.add(Dropout(rate =0.25))\n",
        "\n",
        "model.add(Flatten())\n",
        "model.add(Dense(units=64, activation='relu'))\n",
        "model.add(Dropout(rate=0.25))\n",
        "model.add(Dense(units=1,activation='sigmoid'))\n",
        "\n",
        "model.summary()"
      ],
      "metadata": {
        "id": "drOCmPyRP7hw",
        "colab": {
          "base_uri": "https://localhost:8080/"
        },
        "outputId": "0f161fcd-d6da-4a8d-c15b-981120ec72ab"
      },
      "execution_count": null,
      "outputs": [
        {
          "output_type": "stream",
          "name": "stdout",
          "text": [
            "Model: \"sequential\"\n",
            "_________________________________________________________________\n",
            " Layer (type)                Output Shape              Param #   \n",
            "=================================================================\n",
            " conv2d (Conv2D)             (None, 222, 222, 16)      448       \n",
            "                                                                 \n",
            " conv2d_1 (Conv2D)           (None, 220, 220, 36)      5220      \n",
            "                                                                 \n",
            " max_pooling2d (MaxPooling2D  (None, 110, 110, 36)     0         \n",
            " )                                                               \n",
            "                                                                 \n",
            " conv2d_2 (Conv2D)           (None, 108, 108, 64)      20800     \n",
            "                                                                 \n",
            " max_pooling2d_1 (MaxPooling  (None, 54, 54, 64)       0         \n",
            " 2D)                                                             \n",
            "                                                                 \n",
            " conv2d_3 (Conv2D)           (None, 52, 52, 128)       73856     \n",
            "                                                                 \n",
            " max_pooling2d_2 (MaxPooling  (None, 26, 26, 128)      0         \n",
            " 2D)                                                             \n",
            "                                                                 \n",
            " dropout (Dropout)           (None, 26, 26, 128)       0         \n",
            "                                                                 \n",
            " flatten (Flatten)           (None, 86528)             0         \n",
            "                                                                 \n",
            " dense (Dense)               (None, 64)                5537856   \n",
            "                                                                 \n",
            " dropout_1 (Dropout)         (None, 64)                0         \n",
            "                                                                 \n",
            " dense_1 (Dense)             (None, 1)                 65        \n",
            "                                                                 \n",
            "=================================================================\n",
            "Total params: 5,638,245\n",
            "Trainable params: 5,638,245\n",
            "Non-trainable params: 0\n",
            "_________________________________________________________________\n"
          ]
        }
      ]
    },
    {
      "cell_type": "code",
      "source": [
        "model.compile(optimizer ='adam',loss= keras.losses.binary_crossentropy,metrics =['accuracy'])"
      ],
      "metadata": {
        "id": "n1hROWfDRik7"
      },
      "execution_count": null,
      "outputs": []
    },
    {
      "cell_type": "markdown",
      "source": [
        "Preparing our data using Data Generator"
      ],
      "metadata": {
        "id": "fv7kD8XDR-D5"
      }
    },
    {
      "cell_type": "code",
      "source": [
        "def preprocessingImages1(path):\n",
        "  \"\"\"\n",
        "  input: path\n",
        "  output: pre processed images\n",
        "  \"\"\"\n",
        "  image_data = ImageDataGenerator(zoom_range = 0.2, shear_range =0.2, rescale = 1/255, horizontal_flip =True)\n",
        "  image = image_data.flow_from_directory(directory = path, target_size = (224,224),batch_size =32, class_mode = 'binary')\n",
        "\n",
        "  return image"
      ],
      "metadata": {
        "id": "UmV4d0O2SDq_"
      },
      "execution_count": null,
      "outputs": []
    },
    {
      "cell_type": "code",
      "source": [
        "path = \"/content/train\"\n",
        "train_data = preprocessingImages1(path)\n"
      ],
      "metadata": {
        "id": "xl_Kc1pUSyJN",
        "colab": {
          "base_uri": "https://localhost:8080/"
        },
        "outputId": "0e49baaa-0f1f-4989-87aa-01b8f4baa36e"
      },
      "execution_count": null,
      "outputs": [
        {
          "output_type": "stream",
          "name": "stdout",
          "text": [
            "Found 1521 images belonging to 4 classes.\n"
          ]
        }
      ]
    },
    {
      "cell_type": "code",
      "source": [
        "def preprocessingImages2(path):\n",
        "  \"\"\"\n",
        "  input: path\n",
        "  output: pre processed images\n",
        "  \"\"\"\n",
        "  image_data = ImageDataGenerator(rescale = 1/255)\n",
        "  image = image_data.flow_from_directory(directory = path,\n",
        "                                         target_size = (224,224),\n",
        "                                         batch_size =16, class_mode = 'binary')\n",
        "\n",
        "  return image"
      ],
      "metadata": {
        "id": "yxLDpAjXU4D-"
      },
      "execution_count": null,
      "outputs": []
    },
    {
      "cell_type": "code",
      "source": [
        "path = \"/content/test\"\n",
        "test_data = preprocessingImages2(path)\n"
      ],
      "metadata": {
        "id": "M2esJlNGVE8m",
        "colab": {
          "base_uri": "https://localhost:8080/"
        },
        "outputId": "7f0d5665-be66-42a0-a8ee-f5eaf73c4b36"
      },
      "execution_count": null,
      "outputs": [
        {
          "output_type": "stream",
          "name": "stdout",
          "text": [
            "Found 409 images belonging to 4 classes.\n"
          ]
        }
      ]
    },
    {
      "cell_type": "code",
      "source": [
        "path = \"/content/val\"\n",
        "val_data = preprocessingImages2(path)\n"
      ],
      "metadata": {
        "id": "vznApkW8V3Ep",
        "colab": {
          "base_uri": "https://localhost:8080/"
        },
        "outputId": "89c1f3f9-8fa2-454e-a2ce-77a81cda108d"
      },
      "execution_count": null,
      "outputs": [
        {
          "output_type": "stream",
          "name": "stdout",
          "text": [
            "Found 409 images belonging to 4 classes.\n"
          ]
        }
      ]
    },
    {
      "cell_type": "code",
      "source": [
        "# Early stopping and model check point\n",
        "\n",
        "from keras.callbacks import ModelCheckpoint , EarlyStopping\n",
        "\n",
        "# early stopping\n",
        "\n",
        "es = EarlyStopping(monitor=\"val_accuracy\", min_delta =0.01,patience =3,verbose =1, mode=\"auto\")\n",
        "\n",
        "#model checkpoint\n",
        "\n",
        "mc = ModelCheckpoint(monitor=\"val_accuracy\", filepath = './bestmodel.h5', verbose=1, save_best_only = True , mode=\"auto\")\n",
        "\n",
        "cd =[es,mc]"
      ],
      "metadata": {
        "id": "vjH6NMqnV9d8"
      },
      "execution_count": null,
      "outputs": []
    },
    {
      "cell_type": "markdown",
      "source": [
        "Model Training\n"
      ],
      "metadata": {
        "id": "3srXnYozW0is"
      }
    },
    {
      "cell_type": "code",
      "source": [
        "hs = model.fit_generator(generator = train_data, \n",
        "                         steps_per_epoch=5,epochs =30,\n",
        "                         verbose=1,\n",
        "                         validation_data= val_data, \n",
        "                         validation_steps=16,\n",
        "                         callbacks =cd)"
      ],
      "metadata": {
        "id": "1OgvUMrLWzRA",
        "colab": {
          "base_uri": "https://localhost:8080/"
        },
        "outputId": "84e54c79-e8c7-4285-b075-cc92f2462da7"
      },
      "execution_count": null,
      "outputs": [
        {
          "output_type": "stream",
          "name": "stdout",
          "text": [
            "Epoch 1/30\n",
            "5/5 [==============================] - ETA: 0s - loss: -1858646292037632.0000 - accuracy: 0.3375\n",
            "Epoch 1: val_accuracy improved from -inf to 0.25000, saving model to ./bestmodel.h5\n",
            "5/5 [==============================] - 5s 1s/step - loss: -1858646292037632.0000 - accuracy: 0.3375 - val_loss: -3495532416729088.0000 - val_accuracy: 0.2500\n",
            "Epoch 2/30\n",
            "5/5 [==============================] - ETA: 0s - loss: -2592102420578304.0000 - accuracy: 0.2937\n",
            "Epoch 2: val_accuracy improved from 0.25000 to 0.25781, saving model to ./bestmodel.h5\n",
            "5/5 [==============================] - 4s 832ms/step - loss: -2592102420578304.0000 - accuracy: 0.2937 - val_loss: -3364621813547008.0000 - val_accuracy: 0.2578\n",
            "Epoch 3/30\n",
            "5/5 [==============================] - ETA: 0s - loss: -2892326003277824.0000 - accuracy: 0.3250\n",
            "Epoch 3: val_accuracy improved from 0.25781 to 0.30469, saving model to ./bestmodel.h5\n",
            "5/5 [==============================] - 4s 834ms/step - loss: -2892326003277824.0000 - accuracy: 0.3250 - val_loss: -3191738642464768.0000 - val_accuracy: 0.3047\n",
            "Epoch 4/30\n",
            "5/5 [==============================] - ETA: 0s - loss: -3828501635399680.0000 - accuracy: 0.2500\n",
            "Epoch 4: val_accuracy improved from 0.30469 to 0.31641, saving model to ./bestmodel.h5\n",
            "5/5 [==============================] - 4s 831ms/step - loss: -3828501635399680.0000 - accuracy: 0.2500 - val_loss: -4346791176699904.0000 - val_accuracy: 0.3164\n",
            "Epoch 5/30\n",
            "5/5 [==============================] - ETA: 0s - loss: -3131712716406784.0000 - accuracy: 0.3187\n",
            "Epoch 5: val_accuracy did not improve from 0.31641\n",
            "5/5 [==============================] - 4s 787ms/step - loss: -3131712716406784.0000 - accuracy: 0.3187 - val_loss: -3984245471051776.0000 - val_accuracy: 0.2852\n",
            "Epoch 6/30\n",
            "5/5 [==============================] - ETA: 0s - loss: -3827171537715200.0000 - accuracy: 0.3125\n",
            "Epoch 6: val_accuracy did not improve from 0.31641\n",
            "5/5 [==============================] - 4s 793ms/step - loss: -3827171537715200.0000 - accuracy: 0.3125 - val_loss: -3896781146423296.0000 - val_accuracy: 0.2656\n",
            "Epoch 7/30\n",
            "5/5 [==============================] - ETA: 0s - loss: -2705667261464576.0000 - accuracy: 0.3172\n",
            "Epoch 7: val_accuracy did not improve from 0.31641\n",
            "5/5 [==============================] - 3s 735ms/step - loss: -2705667261464576.0000 - accuracy: 0.3172 - val_loss: -4310218187997184.0000 - val_accuracy: 0.2773\n",
            "Epoch 7: early stopping\n"
          ]
        }
      ]
    },
    {
      "cell_type": "code",
      "source": [
        "# Model Graphical Interpretation\n",
        "\n",
        "history = hs.history\n",
        "history.keys()\n",
        "\n"
      ],
      "metadata": {
        "id": "R1nIfHz8XzYb",
        "colab": {
          "base_uri": "https://localhost:8080/"
        },
        "outputId": "ad822426-8810-4f02-e604-35d7863299f9"
      },
      "execution_count": null,
      "outputs": [
        {
          "output_type": "execute_result",
          "data": {
            "text/plain": [
              "dict_keys(['loss', 'accuracy', 'val_loss', 'val_accuracy'])"
            ]
          },
          "metadata": {},
          "execution_count": 41
        }
      ]
    },
    {
      "cell_type": "code",
      "source": [
        "# import matplotlib.pyplot as plt\n",
        "\n",
        "# plt.figure()\n",
        "# plt.plot(train_loss,)\n",
        "\n",
        "# plt.autoscale()\n",
        "# plt.plot(h['accuracy'])\n",
        "# plt.plot(h['val_accuracy'], c='red')\n",
        "\n",
        "# plt.title(\"acc vs val-acc\")\n",
        "# plt.show()\n",
        "\n",
        "def plot_metrics(history):\n",
        "\n",
        "    train_loss = history['loss']\n",
        "    val_loss = history['val_loss']\n",
        "    train_acc = history['accuracy']\n",
        "    val_acc = history['val_accuracy']\n",
        "\n",
        "    # Loss\n",
        "    plt.figure()\n",
        "    plt.plot(train_loss, label='Training Loss')\n",
        "    plt.plot(val_loss, label='Validation Loss')\n",
        "    plt.title('Loss')\n",
        "    plt.legend()\n",
        "    plt.show()\n",
        "\n",
        "    # Accuracy\n",
        "    plt.figure()\n",
        "    plt.plot(train_acc, label='Training Accuracy')\n",
        "    plt.plot(val_acc, label='Validation Accuracy')\n",
        "    plt.title('Accuracy')\n",
        "    plt.legend()\n",
        "    plt.show()\n",
        "\n",
        "\n",
        "\n",
        "\n",
        "plot_metrics(history)"
      ],
      "metadata": {
        "id": "c8EnxKYXYb0G",
        "colab": {
          "base_uri": "https://localhost:8080/",
          "height": 545
        },
        "outputId": "3d323fc9-4550-4778-db10-6ec5591d6d51"
      },
      "execution_count": null,
      "outputs": [
        {
          "output_type": "display_data",
          "data": {
            "text/plain": [
              "<Figure size 432x288 with 1 Axes>"
            ],
            "image/png": "[encoded data removed]"
          },
          "metadata": {
            "needs_background": "light"
          }
        },
        {
          "output_type": "display_data",
          "data": {
            "text/plain": [
              "<Figure size 432x288 with 1 Axes>"
            ],
            "image/png": "[encoded data removed]"
          },
          "metadata": {
            "needs_background": "light"
          }
        }
      ]
    },
    {
      "cell_type": "code",
      "source": [
        "import matplotlib.pyplot as plt\n",
        "\n",
        "plt.plot(h['loss'])\n",
        "plt.plot(h['val_loss'], c='red')\n",
        "\n",
        "plt.title(\"acc vs val-acc\")\n",
        "plt.show()"
      ],
      "metadata": {
        "id": "9FFw60IdZeD1",
        "colab": {
          "base_uri": "https://localhost:8080/",
          "height": 235
        },
        "outputId": "ab6fdf36-3961-4965-c6af-b3cbc7d7fa80"
      },
      "execution_count": null,
      "outputs": [
        {
          "output_type": "error",
          "ename": "NameError",
          "evalue": "ignored",
          "traceback": [
            "\u001b[0;31m---------------------------------------------------------------------------\u001b[0m",
            "\u001b[0;31mNameError\u001b[0m                                 Traceback (most recent call last)",
            "\u001b[0;32m<ipython-input-23-57290340ade9>\u001b[0m in \u001b[0;36m<module>\u001b[0;34m\u001b[0m\n\u001b[1;32m      1\u001b[0m \u001b[0;32mimport\u001b[0m \u001b[0mmatplotlib\u001b[0m\u001b[0;34m.\u001b[0m\u001b[0mpyplot\u001b[0m \u001b[0;32mas\u001b[0m \u001b[0mplt\u001b[0m\u001b[0;34m\u001b[0m\u001b[0;34m\u001b[0m\u001b[0m\n\u001b[1;32m      2\u001b[0m \u001b[0;34m\u001b[0m\u001b[0m\n\u001b[0;32m----> 3\u001b[0;31m \u001b[0mplt\u001b[0m\u001b[0;34m.\u001b[0m\u001b[0mplot\u001b[0m\u001b[0;34m(\u001b[0m\u001b[0mh\u001b[0m\u001b[0;34m[\u001b[0m\u001b[0;34m'loss'\u001b[0m\u001b[0;34m]\u001b[0m\u001b[0;34m)\u001b[0m\u001b[0;34m\u001b[0m\u001b[0;34m\u001b[0m\u001b[0m\n\u001b[0m\u001b[1;32m      4\u001b[0m \u001b[0mplt\u001b[0m\u001b[0;34m.\u001b[0m\u001b[0mplot\u001b[0m\u001b[0;34m(\u001b[0m\u001b[0mh\u001b[0m\u001b[0;34m[\u001b[0m\u001b[0;34m'val_loss'\u001b[0m\u001b[0;34m]\u001b[0m\u001b[0;34m,\u001b[0m \u001b[0mc\u001b[0m\u001b[0;34m=\u001b[0m\u001b[0;34m'red'\u001b[0m\u001b[0;34m)\u001b[0m\u001b[0;34m\u001b[0m\u001b[0;34m\u001b[0m\u001b[0m\n\u001b[1;32m      5\u001b[0m \u001b[0;34m\u001b[0m\u001b[0m\n",
            "\u001b[0;31mNameError\u001b[0m: name 'h' is not defined"
          ]
        }
      ]
    },
    {
      "cell_type": "code",
      "source": [
        "#Model Accuracy\n",
        "\n",
        "from keras.models import load_model\n",
        "\n",
        "model = load_model(\"/content/bestmodel.h5\")\n",
        "\n"
      ],
      "metadata": {
        "id": "RTb-P430aOXI"
      },
      "execution_count": null,
      "outputs": []
    },
    {
      "cell_type": "code",
      "source": [
        "acc= model.evaluate_generator(test_data)[1]\n",
        "print(f\"The accuracy of our model is {acc*100} %\")\n"
      ],
      "metadata": {
        "id": "q_zokC6Oa8Qx"
      },
      "execution_count": null,
      "outputs": []
    },
    {
      "cell_type": "code",
      "source": [
        "path = \"\"\n",
        "\n",
        "img = "
      ],
      "metadata": {
        "id": "TqhtVDFsbYj7"
      },
      "execution_count": null,
      "outputs": []
    }
  ]
}